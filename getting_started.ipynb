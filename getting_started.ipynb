{
 "cells": [
  {
   "cell_type": "markdown",
   "metadata": {},
   "source": [
    "# Getting Started"
   ]
  },
  {
   "cell_type": "code",
   "execution_count": 7,
   "metadata": {},
   "outputs": [],
   "source": [
    "# Warning Control\n",
    "import warnings\n",
    "warnings.filterwarnings('ignore')"
   ]
  },
  {
   "cell_type": "markdown",
   "metadata": {},
   "source": [
    "## Cisco Specific Way to Get ACCESS_TOKEN from Circuit"
   ]
  },
  {
   "cell_type": "code",
   "execution_count": 2,
   "metadata": {},
   "outputs": [],
   "source": [
    "import openai\n",
    "openai.api_key = '' #@param {type:\"string\"}\n",
    "MODEL = 'code-davinci-002' #@param {type:\"string\"}"
   ]
  },
  {
   "cell_type": "code",
   "execution_count": 3,
   "metadata": {},
   "outputs": [
    {
     "name": "stdout",
     "output_type": "stream",
     "text": [
      "{\"errorCode\":\"invalid_client\",\"errorSummary\":\"Invalid value for 'client_id' parameter.\",\"errorLink\":\"invalid_client\",\"errorId\":\"oaeWbfV_TqHR1aeReW60vnZFg\",\"errorCauses\":[]}\n"
     ]
    }
   ],
   "source": [
    "# Importing libraries\n",
    "import openai\n",
    "import traceback\n",
    "import requests\n",
    "import base64\n",
    "\n",
    "# Open AI version to use\n",
    "openai.api_type = \"azure\"\n",
    "openai.api_version = \"2024-12-01-preview\"\n",
    "\n",
    "# Get API_KEY wrapped in token\n",
    "client_id = '' #@param {type:\"string\"}\n",
    "client_secret = '' #@param {type:\"string\"}\n",
    "\n",
    "url = \"https://id.cisco.com/oauth2/default/v1/token\"\n",
    "\n",
    "payload = \"grant_type=client_credentials\"\n",
    "value = base64.b64encode(f\"{client_id}:{client_secret}\".encode(\"utf-8\")).decode(\"utf-8\")\n",
    "headers = {\n",
    "    \"Accept\": \"*/*\",\n",
    "    \"Content-Type\": \"application/x-www-form-urlencoded\",\n",
    "    \"Authorization\": f\"Basic {value}\",\n",
    "}\n",
    "\n",
    "token_response = requests.request(\"POST\", url, headers=headers, data=payload)\n",
    "\n",
    "print(token_response.text)\n",
    "token_data = token_response.json()\n",
    "#api_key = token_data.get('access_token')\n",
    "#print(api_key) # Set in .env file"
   ]
  },
  {
   "cell_type": "markdown",
   "metadata": {},
   "source": [
    "## Cisco Specific Way to Tie APP_KEY with the ACCESS_TOKEN"
   ]
  },
  {
   "cell_type": "markdown",
   "metadata": {},
   "source": [
    "## Basic Example"
   ]
  },
  {
   "cell_type": "markdown",
   "metadata": {},
   "source": [
    "Basic prompt example:"
   ]
  },
  {
   "cell_type": "code",
   "execution_count": null,
   "metadata": {},
   "outputs": [
    {
     "name": "stdout",
     "output_type": "stream",
     "text": [
      "The capital of France is Paris.\n"
     ]
    }
   ],
   "source": [
    "import os\n",
    "from dotenv import load_dotenv\n",
    "\n",
    "from openai import AzureOpenAI\n",
    "\n",
    "# Loading environment variables\n",
    "load_dotenv()\n",
    "\n",
    "client = AzureOpenAI(\n",
    "    azure_endpoint=\"https://chat-ai.cisco.com\",\n",
    "    api_key=token_data.get('access_token'),\n",
    "    api_version=\"2024-12-01-preview\"\n",
    ")\n",
    "\n",
    "app_key = '' #@param {type:\"string\"}\n",
    "\n",
    "response = client.chat.completions.create(\n",
    "    model=\"gpt-4o-mini\",  # model = \"deployment_name\".\n",
    "    messages=[{\"role\": \"user\", \"content\": \"What is the capital of France?\"}],\n",
    "    user=f'{{\"appkey\": \"{app_key}\"}}',\n",
    ")\n",
    "\n",
    "print(response.choices[0].message.content)"
   ]
  },
  {
   "cell_type": "markdown",
   "metadata": {},
   "source": [
    "## Roles"
   ]
  },
  {
   "cell_type": "markdown",
   "metadata": {},
   "source": [
    "Chat LLMs provides the ability to specific roles. System role can be used to define the high-level instructions or behavior of the system. "
   ]
  },
  {
   "cell_type": "code",
   "execution_count": 10,
   "metadata": {},
   "outputs": [
    {
     "name": "stdout",
     "output_type": "stream",
     "text": [
      "```python\n",
      "def sum_even(numbers: list[int]) -> int:\n",
      "    return sum(num for num in numbers if num % 2 == 0)\n",
      "\n",
      "# Pytest-style tests\n",
      "def test_sum_even():\n",
      "    assert sum_even([1, 2, 3, 4, 5]) == 6\n",
      "    assert sum_even([-2, -4, 1, 3, 5]) == -6\n",
      "    assert sum_even([]) == 0\n",
      "```\n"
     ]
    }
   ],
   "source": [
    "# use system and user roles to guide the model\n",
    "response = client.chat.completions.create(\n",
    "    model=\"gpt-4o-mini\",\n",
    "    messages=[\n",
    "        {\n",
    "            \"role\": \"system\",\n",
    "            \"content\": (\n",
    "                \"You are a strict Python 3.11 code generator. Return only code in a fenced block.\\n\"\n",
    "                \"Follow acceptance criteria precisely.\"\n",
    "            ),\n",
    "        },\n",
    "        {\n",
    "            \"role\": \"user\",\n",
    "            \"content\": (\n",
    "                \"Task: Write a function `sum_even(numbers: list[int]) -> int`.\\n\"\n",
    "                \"Constraints: O(n), no external libs.\\n\"\n",
    "                \"Acceptance criteria:\\n\"\n",
    "                \"- Returns sum of even integers only.\\n\"\n",
    "                \"- Empty list returns 0.\\n\"\n",
    "                \"- Negative even numbers count.\\n\"\n",
    "                \"- Include 3 pytest-style tests in the same code block.\\n\"\n",
    "            ),\n",
    "        },\n",
    "    ],\n",
    "    user=f'{{\"appkey\": \"{app_key}\"}}'\n",
    ")\n",
    "\n",
    "#print(response)\n",
    "print(response.choices[0].message.content)"
   ]
  }
 ],
 "metadata": {
  "kernelspec": {
   "display_name": ".venv",
   "language": "python",
   "name": "python3"
  },
  "language_info": {
   "codemirror_mode": {
    "name": "ipython",
    "version": 3
   },
   "file_extension": ".py",
   "mimetype": "text/x-python",
   "name": "python",
   "nbconvert_exporter": "python",
   "pygments_lexer": "ipython3",
   "version": "3.13.2"
  }
 },
 "nbformat": 4,
 "nbformat_minor": 2
}
